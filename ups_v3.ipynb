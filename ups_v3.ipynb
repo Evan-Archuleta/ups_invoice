{
 "cells": [
  {
   "cell_type": "markdown",
   "id": "26ef6152",
   "metadata": {},
   "source": [
    "Custom Dimensional Weight Divisor : 257\n",
    "\n",
    "The incentives stated above are valid from July 27, 2019 to June 25, 2022.\n",
    "\n",
    "Instructions\n",
    "\n",
    "https://billing.ups.com/home\n",
    "\n",
    "    click on my invoices\n",
    "\n",
    "    export data to table to create the helpful one\n",
    "\n",
    "    download documents to create the detailed one\n",
    "\n",
    "\n",
    "https://docs.google.com/document/d/1X_ptuq2UsNBSR3m1nW-qWsye34lB7soxKTAYMYcmDEM/edit?usp=sharing\n",
    "\n",
    "https://www.ups.com/assets/resources/media/en_US/SurePost_Terms.pdf -- Surepost terms\n"
   ]
  },
  {
   "cell_type": "code",
   "execution_count": 56,
   "id": "170c8ddb",
   "metadata": {},
   "outputs": [],
   "source": [
    "import os\n",
    "import glob\n",
    "import pandas as pd\n",
    "import numpy as np\n",
    "pd.set_option('display.max_rows', 250)\n",
    "pd.set_option('display.max_columns', 50)"
   ]
  },
  {
   "cell_type": "code",
   "execution_count": 57,
   "id": "236a0904",
   "metadata": {},
   "outputs": [],
   "source": [
    "header_list = [\"Version\",\"Recipient Number\",\"Account Number\",\"Account Country/Territory\",\"Invoice Date\",\"Invoice Number\",\n",
    "               \"Invoice Type Code\",\"Invoice Type Detail Code\",\"Account Tax ID\",\"Invoice Currency Code\",\"Invoice Amount\",\n",
    "               \"Transaction Date\",\"Pickup Record Number\",\"Lead Shipment Number\",\"World Ease Number\",\n",
    "               \"Shipment Reference Number 1\",\"Shipment Reference Number 2\",\"Bill Option Code\",\"Package Quantity\",\n",
    "               \"Oversize Quantity\",\"Tracking Number\",\"Package Reference Number 1\",\"Package Reference Number 2\",\n",
    "               \"Package Reference Number 3\",\"Package Reference Number 4\",\"Package Reference Number 5\",\"Entered Weight\",\n",
    "               \"Entered Weight Unit of Measure\",\"Billed Weight\",\"Billed Weight Unit of Measure\",\"Container Type\",\n",
    "               \"Billed Weight Type\",\"Package Dimensions\",\"Zone\",\"Charge Category Code\",\"Charge Category Detail Code\",\n",
    "               \"Charge Source\",\"Type Code 1\",\"Type Detail Code 1\",\"Type Detail Value 1\",\"Type Code 2\",\"Type Detail Code 2\",\n",
    "               \"Type Detail Value 2\",\"Charge Classification Code\",\"Charge Description Code\",\"Charge Description\",\n",
    "               \"Charged Unit Quantity\",\"Basis Currency Code\",\"Basis Value\",\"Tax Indicator\",\"Transaction Currency Code\",\n",
    "               \"Incentive Amount\",\"Net Amount\",\"Miscellaneous Currency Code\",\"Miscellaneous Incentive Amount\",\n",
    "               \"Miscellaneous Net Amount\",\"Alternate Invoicing Currency Code\",\"Alternate Invoice Amount\",\n",
    "               \"Invoice Exchange Rate\",\"Tax Variance Amount\",\"Currency Variance Amount\",\"Invoice Level Charge\",\n",
    "               \"Invoice Due Date\",\"Alternate Invoice Number\",\"Store Number\",\"Customer Reference Number\",\"Sender Name\",\n",
    "               \"Sender Company Name\",\"Sender Address Line 1\",\"Sender Address Line 2\",\"Sender City\",\"Sender State\",\n",
    "               \"Sender Postal\",\"Sender Country/Territory\",\"Receiver Name\",\"Receiver Company Name\",\"Receiver Address Line 1\",\n",
    "               \"Receiver Address Line 2\",\"Receiver City\",\"Receiver State\",\"Receiver Postal\",\"Receiver Country/Territory\",\n",
    "               \"Third Party Name\",\"Third Party Company Name\",\"Third Party Address Line 1\",\"Third Party Address Line 2\",\n",
    "               \"Third Party City\",\"Third Party State\",\"Third Party Postal\",\"Third party Country/Territory\",\"Sold To Name\",\n",
    "               \"Sold To Company Name\",\"Sold To Address Line 1\",\"Sold To Address Line 2\",\"Sold To City\",\"Sold To State\",\n",
    "               \"Sold To Postal\",\"Sold to Country/Territory\",\"Miscellaneous Address Qual 1\",\"Miscellaneous Address 1 Name\",\n",
    "               \"Miscellaneous Address 1 Company Name\",\"Miscellaneous Address 1 Address Line 1\",\n",
    "               \"Miscellaneous Address 1 Address Line 2\",\"Miscellaneous Address 1 City\",\"Miscellaneous Address 1 State\",\n",
    "               \"Miscellaneous Address 1 Postal\",\"Miscellaneous address 1 Country/Territory\",\"Miscellaneous Address Qual 2\",\n",
    "               \"Miscellaneous Address 2 Name\",\"Miscellaneous Address 2 Company Name\",\"Miscellaneous Address 2 Address Line 1\",\n",
    "               \"Miscellaneous Address 2 Address Line 2\",\"Miscellaneous Address 2 City\",\"Miscellaneous Address 2 State\",\n",
    "               \"Miscellaneous Address 2 Postal\",\"Miscellaneous address 2 Country/Territory\",\"Shipment Date\",\n",
    "               \"Shipment Export Date\",\"Shipment Import Date\",\"Entry Date\",\"Direct Shipment Date\",\"Shipment Delivery Date\",\n",
    "               \"Shipment Release Date\",\"Cycle Date\",\"EFT Date\",\"Validation Date\",\"Entry Port\",\"Entry Number\",\"Export Place\",\n",
    "               \"Shipment Value Amount\",\"Shipment Description\",\"Entered Currency Code\",\"Customs Number\",\"Exchange Rate\",\n",
    "               \"Master Air Waybill Number\",\"EPU\",\"Entry Type\",\"CPC Code\",\"Line Item Number\",\"Goods Description\",\"Entered Value\",\n",
    "               \"Duty Amount\",\"Weight\",\"Unit of Measure\",\"Item Quantity\",\"Item Quantity Unit of Measure\",\"Import Tax ID\",\n",
    "               \"Declaration Number\",\"Carrier Name/Clinical Trial Identification Number/SDS ID \",\"CCCD Number\",\"Cycle Number\",\n",
    "               \"Foreign Trade Reference Number\",\"Job Number\",\"Transport Mode\",\"Tax Type\",\"Tariff Code\",\"Tariff Rate\",\n",
    "               \"Tariff Treatment Number\",\"Contact Name\",\"Class Number\",\"Document Type\",\"Office Number\",\"Document Number\",\n",
    "               \"Duty Value\",\"Total Value for Duty\",\"Excise Tax Amount\",\"Excise Tax Rate\",\"GST Amount\",\"GST Rate\",\n",
    "               \"Order In Council\",\"Origin Country/Territory\",\"SIMA Access\",\"Tax Value\",\"Total Customs Amount\",\n",
    "               \"Miscellaneous Line 1\",\"Miscellaneous Line 2\",\"Miscellaneous Line 3\",\"Miscellaneous Line 4\",\n",
    "               \"Miscellaneous Line 5\",\"Payor Role Code\",\"Miscellaneous Line 7\",\"Miscellaneous Line 8\",\"Miscellaneous Line 9\",\n",
    "               \"Miscellaneous Line 10\",\"Miscellaneous Line 11\",\"Duty Rate\",\"VAT Basis Amount\",\"VAT Amount\",\"VAT Rate\",\n",
    "               \"Other Basis Amount\",\"Other Amount\",\"Other Rate\",\"Other Customs Number Indicator\",\"Other Customs Number\",\n",
    "               \"Customs Office Name\",\"Package Dimension Unit Of Measure\",\"Original Shipment Package Quantity\",\"Corrected Zone\",\n",
    "               \"Tax Law Article Number\",\"Tax Law Article Basis Amount\",\"Original tracking number\",\"Scale weight quantity\",\n",
    "               \"Scale Weight Unit of Measure\",\"Raw dimension unit of measure\",\"Raw dimension length\",\"BOL # 1\",\"BOL # 2\",\n",
    "               \"BOL # 3\",\"BOL # 4\",\"BOL # 5\",\"PO # 1\",\"PO # 2\",\"PO # 3\",\"PO # 4\",\"PO # 5\",\"PO # 6\",\"PO # 7\",\"PO # 8\",\n",
    "               \"PO # 9\",\"PO # 10\",\"NMFC\",\"Detail Class\",\"Freight Sequence Number\",\"Declared Freight Class\",\"EORI Number\",\n",
    "               \"Detail Keyed Dim\",\"Detail Keyed Unit of Measure\",\"Detail Keyed Billed Dimension\",\"Detail Keyed Billed Unit of Measure\",\n",
    "               \"Original Service Description\",\"Promo Discount Applied Indicator\",\"Promo Discount Alias\",\"SDS Match Level Cd\",\n",
    "               \"SDS RDR Date\",\"SDS Delivery Date\",\"SDS Error Code\",\"Place Holder 46\",\"Place Holder 47\",\"Place Holder 48\",\n",
    "               \"SCC Scale Weight\",\"Place Holder 50\",\"Place Holder 51\",\"Place Holder 52\",\"Place Holder 53\",\"Place Holder 54\",\n",
    "               \"Place Holder 55\",\"Place Holder 56\",\"Place Holder 57\",\"Place Holder 58\",\"Place Holder 59\"]"
   ]
  },
  {
   "cell_type": "code",
   "execution_count": 58,
   "id": "b7cda749",
   "metadata": {},
   "outputs": [
    {
     "data": {
      "text/plain": [
       "['Invoice_000000R4R346012_010122.csv',\n",
       " 'Invoice_000000R4R346022_010822.csv',\n",
       " 'Invoice_000000R4R346032_011522.csv',\n",
       " 'Invoice_000000R4R346042_012222.csv',\n",
       " 'Invoice_000000R4R346052_012922.csv',\n",
       " 'Invoice_000000R4R346062_020522.csv',\n",
       " 'Invoice_000000R4R346072_021222.csv',\n",
       " 'Invoice_000000R4R346082_021922.csv',\n",
       " 'Invoice_000000R4R346092_022622.csv',\n",
       " 'Invoice_000000R4R346102_030522.csv',\n",
       " 'Invoice_000000R4R346491_120421.csv',\n",
       " 'Invoice_000000R4R346501_121121.csv',\n",
       " 'Invoice_000000R4R346511_121821.csv',\n",
       " 'Invoice_000000R4R346521_122521.csv']"
      ]
     },
     "execution_count": 58,
     "metadata": {},
     "output_type": "execute_result"
    }
   ],
   "source": [
    "extension = 'csv'\n",
    "all_filenames = [i for i in glob.glob('Invoice_*.{}'.format(extension))]\n",
    "all_filenames"
   ]
  },
  {
   "cell_type": "code",
   "execution_count": 59,
   "id": "2419b898",
   "metadata": {},
   "outputs": [],
   "source": [
    "df_master = pd.DataFrame()\n",
    "for file in all_filenames:\n",
    "    df = pd.read_csv(file, names=header_list)\n",
    "    df['Detail Keyed Dim'] = df['Detail Keyed Dim'].bfill()  \n",
    "    df_master = df_master.append(df)"
   ]
  },
  {
   "cell_type": "code",
   "execution_count": 60,
   "id": "49724507",
   "metadata": {},
   "outputs": [
    {
     "name": "stdout",
     "output_type": "stream",
     "text": [
      "(25077, 250)\n"
     ]
    }
   ],
   "source": [
    "print(df_master.shape)\n",
    "df_master.head()\n",
    "df = df_master"
   ]
  },
  {
   "cell_type": "code",
   "execution_count": 61,
   "id": "8d89b40d",
   "metadata": {},
   "outputs": [],
   "source": [
    "for col in df.columns:\n",
    "    if len(df[col].unique()) == 1:\n",
    "        df.drop(col,inplace=True,axis=1)\n",
    "        \n",
    "df_detailed = df"
   ]
  },
  {
   "cell_type": "code",
   "execution_count": 62,
   "id": "f8570872",
   "metadata": {},
   "outputs": [
    {
     "data": {
      "text/plain": [
       "['000000R4R346012-SHIPMENT_2022-01-06_114725.csv',\n",
       " '000000R4R346022-SHIPMENT_2022-01-10_92042.csv',\n",
       " '000000R4R346032-SHIPMENT_2022-01-26_41249.csv',\n",
       " '000000R4R346042-SHIPMENT_2022-01-26_41509.csv',\n",
       " '000000R4R346062-SHIPMENT_2022-02-18_85343.csv',\n",
       " '000000R4R346062-SHIPMENT_2022-02-18_85523.csv',\n",
       " '000000R4R346072-SHIPMENT_2022-02-18_85603.csv',\n",
       " '000000R4R346082-SHIPMENT_2022-02-23_105428.csv',\n",
       " '000000R4R346092-SHIPMENT_2022-02-28_102328.csv',\n",
       " '000000R4R346102-SHIPMENT_2022-03-07_84528.csv',\n",
       " '000000R4R346491-SHIPMENT_2021-12-28_22154.csv',\n",
       " '000000R4R346501-SHIPMENT_2021-12-28_22228.csv',\n",
       " '000000R4R346511-SHIPMENT_2021-12-28_22218.csv',\n",
       " '000000R4R346521-SHIPMENT_2021-12-28_22208.csv']"
      ]
     },
     "execution_count": 62,
     "metadata": {},
     "output_type": "execute_result"
    }
   ],
   "source": [
    "all_filenames = [i for i in glob.glob('000000R4R346*.{}'.format(extension))]\n",
    "all_filenames"
   ]
  },
  {
   "cell_type": "code",
   "execution_count": 63,
   "id": "bf8848e2",
   "metadata": {},
   "outputs": [],
   "source": [
    "df_condenced = pd.DataFrame()\n",
    "for file in all_filenames:\n",
    "    df = pd.read_csv(file)  \n",
    "    df_condenced = df_condenced.append(df)\n",
    "  \n",
    "df_condenced = df_condenced[df_condenced.columns.drop([\"Ref No 2\", 'Type', 'System'])]"
   ]
  },
  {
   "cell_type": "code",
   "execution_count": 64,
   "id": "b0ccd7bf",
   "metadata": {},
   "outputs": [],
   "source": [
    "def convert_currency(val):\n",
    "    \"\"\"\n",
    "    Convert the string number value to a float\n",
    "     - Remove $\n",
    "     - Remove commas\n",
    "     - Convert to float type\n",
    "    \"\"\"\n",
    "    new_val = val.replace(',','').replace('$', '')\n",
    "    return float(new_val)\n",
    "\n",
    "df_condenced['Net Charge'] = df_condenced['Net Charge'].apply(convert_currency)"
   ]
  },
  {
   "cell_type": "code",
   "execution_count": 65,
   "id": "e93ecddc",
   "metadata": {},
   "outputs": [
    {
     "name": "stderr",
     "output_type": "stream",
     "text": [
      "C:\\Users\\evan\\AppData\\Local\\Temp/ipykernel_11048/3486596341.py:1: FutureWarning: Dropping invalid columns in DataFrameGroupBy.max is deprecated. In a future version, a TypeError will be raised. Before calling .max, select only columns which should be valid for the function.\n",
      "  inspect = df_detailed.groupby(by='Tracking Number', dropna=True).max()\n"
     ]
    }
   ],
   "source": [
    "inspect = df_detailed.groupby(by='Tracking Number', dropna=True).max()\n",
    "\n",
    "# df_clean = pd.merge(df_condenced,inspect[['Billed Weight', 'Package Quantity', 'Zone', 'Receiver Company Name', 'Receiver Address Line 1',\n",
    "#                                       'Receiver Address Line 2','Receiver City', 'Receiver State', 'Receiver Postal']],\n",
    "#                                     on ='Tracking Number', how='inner')\n",
    "\n",
    "df_clean = pd.merge(df_condenced,inspect[['Billed Weight', 'Package Quantity', 'Zone','Receiver City',\n",
    "                                          'Receiver State', 'Receiver Postal']], on ='Tracking Number', how='inner')"
   ]
  },
  {
   "cell_type": "code",
   "execution_count": 66,
   "id": "0433a4fb",
   "metadata": {},
   "outputs": [],
   "source": [
    "df_clean = pd.merge(df_clean,df_detailed[['Tracking Number', 'Detail Keyed Dim']], \n",
    "                                    on ='Tracking Number', how='inner')"
   ]
  },
  {
   "cell_type": "code",
   "execution_count": 67,
   "id": "6c77ae08",
   "metadata": {},
   "outputs": [],
   "source": [
    "df_clean.drop_duplicates(keep='first', inplace=True, ignore_index=True)"
   ]
  },
  {
   "cell_type": "code",
   "execution_count": 68,
   "id": "0467bb73",
   "metadata": {},
   "outputs": [
    {
     "data": {
      "text/html": [
       "<div>\n",
       "<style scoped>\n",
       "    .dataframe tbody tr th:only-of-type {\n",
       "        vertical-align: middle;\n",
       "    }\n",
       "\n",
       "    .dataframe tbody tr th {\n",
       "        vertical-align: top;\n",
       "    }\n",
       "\n",
       "    .dataframe thead th {\n",
       "        text-align: right;\n",
       "    }\n",
       "</style>\n",
       "<table border=\"1\" class=\"dataframe\">\n",
       "  <thead>\n",
       "    <tr style=\"text-align: right;\">\n",
       "      <th></th>\n",
       "      <th>Tracking Number</th>\n",
       "      <th>Transaction Date</th>\n",
       "      <th>Service Code</th>\n",
       "      <th>Published Charge</th>\n",
       "      <th>Incentive Charge</th>\n",
       "      <th>Net Charge</th>\n",
       "      <th>Ref No 1</th>\n",
       "      <th>Billed Weight</th>\n",
       "      <th>Package Quantity</th>\n",
       "      <th>Zone</th>\n",
       "      <th>Receiver City</th>\n",
       "      <th>Receiver State</th>\n",
       "      <th>Receiver Postal</th>\n",
       "      <th>Detail Keyed Dim</th>\n",
       "    </tr>\n",
       "  </thead>\n",
       "  <tbody>\n",
       "    <tr>\n",
       "      <th>0</th>\n",
       "      <td>1ZR4R346YW90072441</td>\n",
       "      <td>2021-12-21</td>\n",
       "      <td>UPS SurePost - 1 LB or Greater</td>\n",
       "      <td>19.38</td>\n",
       "      <td>-3.87</td>\n",
       "      <td>15.51</td>\n",
       "      <td>3134770</td>\n",
       "      <td>9.0</td>\n",
       "      <td>1</td>\n",
       "      <td>7.0</td>\n",
       "      <td>Halethorpe</td>\n",
       "      <td>MD</td>\n",
       "      <td>21227</td>\n",
       "      <td>15.0x 15.0x 10.0</td>\n",
       "    </tr>\n",
       "    <tr>\n",
       "      <th>1</th>\n",
       "      <td>1ZR4R346YW90135892</td>\n",
       "      <td>2021-12-28</td>\n",
       "      <td>UPS SurePost - 1 LB or Greater</td>\n",
       "      <td>20.62</td>\n",
       "      <td>-3.37</td>\n",
       "      <td>17.25</td>\n",
       "      <td>3135116</td>\n",
       "      <td>5.0</td>\n",
       "      <td>1</td>\n",
       "      <td>5.0</td>\n",
       "      <td>Woodstock</td>\n",
       "      <td>IL</td>\n",
       "      <td>60098</td>\n",
       "      <td>14.0x 14.0x  6.0</td>\n",
       "    </tr>\n",
       "  </tbody>\n",
       "</table>\n",
       "</div>"
      ],
      "text/plain": [
       "      Tracking Number Transaction Date                    Service Code  \\\n",
       "0  1ZR4R346YW90072441       2021-12-21  UPS SurePost - 1 LB or Greater   \n",
       "1  1ZR4R346YW90135892       2021-12-28  UPS SurePost - 1 LB or Greater   \n",
       "\n",
       "   Published Charge  Incentive Charge  Net Charge Ref No 1  Billed Weight  \\\n",
       "0             19.38             -3.87       15.51  3134770            9.0   \n",
       "1             20.62             -3.37       17.25  3135116            5.0   \n",
       "\n",
       "   Package Quantity  Zone Receiver City Receiver State Receiver Postal  \\\n",
       "0                 1   7.0    Halethorpe             MD           21227   \n",
       "1                 1   5.0     Woodstock             IL           60098   \n",
       "\n",
       "   Detail Keyed Dim  \n",
       "0  15.0x 15.0x 10.0  \n",
       "1  14.0x 14.0x  6.0  "
      ]
     },
     "execution_count": 68,
     "metadata": {},
     "output_type": "execute_result"
    }
   ],
   "source": [
    "# clean data \n",
    "df_clean['Published Charge'] = df_clean['Published Charge'].apply(convert_currency)\n",
    "df_clean['Incentive Charge'] = df_clean['Incentive Charge'].apply(convert_currency)\n",
    "df_clean['Transaction Date'] = pd.to_datetime(df_clean['Transaction Date'])\n",
    "df_clean['Receiver Postal'] = df_clean['Receiver Postal'].astype(int).astype(str).str.zfill(5)\n",
    "df_clean['Ref No 1'] = df_clean['Ref No 1'].astype(str)\n",
    "df_clean['Ref No 1'] = df_clean['Ref No 1'].str[:7]\n",
    "df_clean.head(2)"
   ]
  },
  {
   "cell_type": "code",
   "execution_count": 69,
   "id": "e6994a4a",
   "metadata": {},
   "outputs": [
    {
     "data": {
      "text/html": [
       "<div>\n",
       "<style scoped>\n",
       "    .dataframe tbody tr th:only-of-type {\n",
       "        vertical-align: middle;\n",
       "    }\n",
       "\n",
       "    .dataframe tbody tr th {\n",
       "        vertical-align: top;\n",
       "    }\n",
       "\n",
       "    .dataframe thead th {\n",
       "        text-align: right;\n",
       "    }\n",
       "</style>\n",
       "<table border=\"1\" class=\"dataframe\">\n",
       "  <thead>\n",
       "    <tr style=\"text-align: right;\">\n",
       "      <th></th>\n",
       "      <th>Total Cost</th>\n",
       "    </tr>\n",
       "    <tr>\n",
       "      <th>Tracking Number</th>\n",
       "      <th></th>\n",
       "    </tr>\n",
       "  </thead>\n",
       "  <tbody>\n",
       "    <tr>\n",
       "      <th>1Z986E610266212958</th>\n",
       "      <td>77.21</td>\n",
       "    </tr>\n",
       "    <tr>\n",
       "      <th>1Z986E610266875368</th>\n",
       "      <td>77.21</td>\n",
       "    </tr>\n",
       "    <tr>\n",
       "      <th>1Z986E610366265588</th>\n",
       "      <td>18.55</td>\n",
       "    </tr>\n",
       "    <tr>\n",
       "      <th>1ZA61V200391184732</th>\n",
       "      <td>56.28</td>\n",
       "    </tr>\n",
       "    <tr>\n",
       "      <th>1ZR4R3460393093680</th>\n",
       "      <td>10.10</td>\n",
       "    </tr>\n",
       "    <tr>\n",
       "      <th>...</th>\n",
       "      <td>...</td>\n",
       "    </tr>\n",
       "    <tr>\n",
       "      <th>1ZR4R346YW99996437</th>\n",
       "      <td>18.19</td>\n",
       "    </tr>\n",
       "    <tr>\n",
       "      <th>1ZR4R346YW99997383</th>\n",
       "      <td>14.87</td>\n",
       "    </tr>\n",
       "    <tr>\n",
       "      <th>1ZR4R346YW99997892</th>\n",
       "      <td>15.43</td>\n",
       "    </tr>\n",
       "    <tr>\n",
       "      <th>1ZR4R346YW99998515</th>\n",
       "      <td>16.44</td>\n",
       "    </tr>\n",
       "    <tr>\n",
       "      <th>1ZR4R346YW99999907</th>\n",
       "      <td>11.98</td>\n",
       "    </tr>\n",
       "  </tbody>\n",
       "</table>\n",
       "<p>7534 rows × 1 columns</p>\n",
       "</div>"
      ],
      "text/plain": [
       "                    Total Cost\n",
       "Tracking Number               \n",
       "1Z986E610266212958       77.21\n",
       "1Z986E610266875368       77.21\n",
       "1Z986E610366265588       18.55\n",
       "1ZA61V200391184732       56.28\n",
       "1ZR4R3460393093680       10.10\n",
       "...                        ...\n",
       "1ZR4R346YW99996437       18.19\n",
       "1ZR4R346YW99997383       14.87\n",
       "1ZR4R346YW99997892       15.43\n",
       "1ZR4R346YW99998515       16.44\n",
       "1ZR4R346YW99999907       11.98\n",
       "\n",
       "[7534 rows x 1 columns]"
      ]
     },
     "execution_count": 69,
     "metadata": {},
     "output_type": "execute_result"
    }
   ],
   "source": [
    "# Total Cost Per Shipment w/ adjustments \n",
    "df_tot_cost = pd.DataFrame()\n",
    "df_tot_cost['Total Cost'] = df_detailed[['Tracking Number', 'Net Amount']].groupby(by = 'Tracking Number').sum()\n",
    "df_tot_cost.rename_axis(\"Tracking Number\")"
   ]
  },
  {
   "cell_type": "code",
   "execution_count": 70,
   "id": "cfe456d1",
   "metadata": {},
   "outputs": [],
   "source": [
    "df_clean = pd.merge(df_clean,df_tot_cost['Total Cost'], \n",
    "                                    on ='Tracking Number', how='inner')"
   ]
  },
  {
   "cell_type": "code",
   "execution_count": 71,
   "id": "2d8726da",
   "metadata": {},
   "outputs": [],
   "source": [
    "df_clean['Adjustment'] = round((df_clean['Total Cost'] - df_clean['Net Charge']), 2)"
   ]
  },
  {
   "cell_type": "code",
   "execution_count": 72,
   "id": "e91c0bf4",
   "metadata": {},
   "outputs": [
    {
     "data": {
      "text/html": [
       "<div>\n",
       "<style scoped>\n",
       "    .dataframe tbody tr th:only-of-type {\n",
       "        vertical-align: middle;\n",
       "    }\n",
       "\n",
       "    .dataframe tbody tr th {\n",
       "        vertical-align: top;\n",
       "    }\n",
       "\n",
       "    .dataframe thead th {\n",
       "        text-align: right;\n",
       "    }\n",
       "</style>\n",
       "<table border=\"1\" class=\"dataframe\">\n",
       "  <thead>\n",
       "    <tr style=\"text-align: right;\">\n",
       "      <th></th>\n",
       "      <th>Tracking Number</th>\n",
       "      <th>Transaction Date</th>\n",
       "      <th>Service Code</th>\n",
       "      <th>Published Charge</th>\n",
       "      <th>Incentive Charge</th>\n",
       "      <th>Net Charge</th>\n",
       "      <th>Ref No 1</th>\n",
       "      <th>Billed Weight</th>\n",
       "      <th>Package Quantity</th>\n",
       "      <th>Zone</th>\n",
       "      <th>Receiver City</th>\n",
       "      <th>Receiver State</th>\n",
       "      <th>Receiver Postal</th>\n",
       "      <th>Detail Keyed Dim</th>\n",
       "      <th>Total Cost</th>\n",
       "      <th>Adjustment</th>\n",
       "    </tr>\n",
       "  </thead>\n",
       "  <tbody>\n",
       "    <tr>\n",
       "      <th>3737</th>\n",
       "      <td>1ZR4R346YW92222392</td>\n",
       "      <td>2022-02-28</td>\n",
       "      <td>UPS SurePost - 1 LB or Greater</td>\n",
       "      <td>8.20</td>\n",
       "      <td>2.02</td>\n",
       "      <td>10.22</td>\n",
       "      <td>3140009</td>\n",
       "      <td>10.0</td>\n",
       "      <td>1</td>\n",
       "      <td>6.0</td>\n",
       "      <td>Lancaster</td>\n",
       "      <td>NY</td>\n",
       "      <td>14086</td>\n",
       "      <td>NaN</td>\n",
       "      <td>24.47</td>\n",
       "      <td>14.25</td>\n",
       "    </tr>\n",
       "    <tr>\n",
       "      <th>3739</th>\n",
       "      <td>1ZR4R346YW92222392</td>\n",
       "      <td>2022-02-28</td>\n",
       "      <td>UPS SurePost - 1 LB or Greater</td>\n",
       "      <td>17.81</td>\n",
       "      <td>-3.56</td>\n",
       "      <td>14.25</td>\n",
       "      <td>3140009</td>\n",
       "      <td>10.0</td>\n",
       "      <td>1</td>\n",
       "      <td>6.0</td>\n",
       "      <td>Lancaster</td>\n",
       "      <td>NY</td>\n",
       "      <td>14086</td>\n",
       "      <td>NaN</td>\n",
       "      <td>24.47</td>\n",
       "      <td>10.22</td>\n",
       "    </tr>\n",
       "  </tbody>\n",
       "</table>\n",
       "</div>"
      ],
      "text/plain": [
       "         Tracking Number Transaction Date                    Service Code  \\\n",
       "3737  1ZR4R346YW92222392       2022-02-28  UPS SurePost - 1 LB or Greater   \n",
       "3739  1ZR4R346YW92222392       2022-02-28  UPS SurePost - 1 LB or Greater   \n",
       "\n",
       "      Published Charge  Incentive Charge  Net Charge Ref No 1  Billed Weight  \\\n",
       "3737              8.20              2.02       10.22  3140009           10.0   \n",
       "3739             17.81             -3.56       14.25  3140009           10.0   \n",
       "\n",
       "      Package Quantity  Zone Receiver City Receiver State Receiver Postal  \\\n",
       "3737                 1   6.0     Lancaster             NY           14086   \n",
       "3739                 1   6.0     Lancaster             NY           14086   \n",
       "\n",
       "     Detail Keyed Dim  Total Cost  Adjustment  \n",
       "3737              NaN       24.47       14.25  \n",
       "3739              NaN       24.47       10.22  "
      ]
     },
     "execution_count": 72,
     "metadata": {},
     "output_type": "execute_result"
    }
   ],
   "source": [
    "# view adjustments \n",
    "\n",
    "df_adj = df_clean[df_clean['Adjustment'] != 0]\n",
    "df_adju = df_adj.drop_duplicates(keep='first')#, inplace=True), ignore_index=True)\n",
    "df_adj = df_adj.sort_values(by=['Transaction Date'], ascending=False)\n",
    "df_adj.head(2)"
   ]
  },
  {
   "cell_type": "code",
   "execution_count": 73,
   "id": "bdf3bffa",
   "metadata": {},
   "outputs": [
    {
     "data": {
      "image/png": "[encoded data removed]",
      "text/plain": [
       "<Figure size 960x800 with 1 Axes>"
      ]
     },
     "metadata": {
      "needs_background": "light"
     },
     "output_type": "display_data"
    }
   ],
   "source": [
    "import seaborn as sns\n",
    "import matplotlib.pyplot as plt\n",
    "from matplotlib.pyplot import figure\n",
    "\n",
    "figure(figsize=(12, 10), dpi=80);\n",
    "\n",
    "sns.scatterplot(x='Billed Weight',\n",
    "               y = 'Total Cost',\n",
    "               hue = 'Detail Keyed Dim',\n",
    "               data = df_clean);\n",
    "\n",
    "plt.legend(loc='best', bbox_to_anchor=(.7, 0., .6, 1));"
   ]
  },
  {
   "cell_type": "code",
   "execution_count": 74,
   "id": "ee9aa12d",
   "metadata": {},
   "outputs": [
    {
     "data": {
      "image/png": "[encoded data removed]",
      "text/plain": [
       "<Figure size 960x320 with 1 Axes>"
      ]
     },
     "metadata": {
      "needs_background": "light"
     },
     "output_type": "display_data"
    }
   ],
   "source": [
    "figure(figsize=(12, 4), dpi=80);\n",
    "ax = sns.regplot(x=\"Billed Weight\", y=\"Total Cost\", data=df_clean)#, x_jitter=.3)"
   ]
  },
  {
   "cell_type": "code",
   "execution_count": 75,
   "id": "c1406b35",
   "metadata": {},
   "outputs": [],
   "source": [
    "# create copy, drop dups, and sort \n",
    "df = df_clean.copy()\n",
    "df.drop_duplicates(subset=['Tracking Number'], keep='first', inplace=True)\n",
    "df = df.sort_values(by=['Transaction Date'], ascending=False)"
   ]
  },
  {
   "cell_type": "code",
   "execution_count": 76,
   "id": "749927b0",
   "metadata": {},
   "outputs": [],
   "source": [
    "# # Filter by date 2022 \n",
    "# import datetime as dt\n",
    "\n",
    "# df = df[df['Transaction Date'].dt.strftime('%Y') == '2022']"
   ]
  },
  {
   "cell_type": "code",
   "execution_count": 77,
   "id": "27576e01",
   "metadata": {},
   "outputs": [],
   "source": [
    "df.to_csv(\"output.csv\", header=True, index=False)"
   ]
  }
 ],
 "metadata": {
  "kernelspec": {
   "display_name": "Python 3 (ipykernel)",
   "language": "python",
   "name": "python3"
  },
  "language_info": {
   "codemirror_mode": {
    "name": "ipython",
    "version": 3
   },
   "file_extension": ".py",
   "mimetype": "text/x-python",
   "name": "python",
   "nbconvert_exporter": "python",
   "pygments_lexer": "ipython3",
   "version": "3.8.12"
  }
 },
 "nbformat": 4,
 "nbformat_minor": 5
}
